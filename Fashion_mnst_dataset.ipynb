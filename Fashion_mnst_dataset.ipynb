{
  "nbformat": 4,
  "nbformat_minor": 0,
  "metadata": {
    "colab": {
      "provenance": [],
      "gpuType": "T4",
      "authorship_tag": "ABX9TyM/Qmhdiefc1tZWi23Pn0s5",
      "include_colab_link": true
    },
    "kernelspec": {
      "name": "python3",
      "display_name": "Python 3"
    },
    "language_info": {
      "name": "python"
    },
    "accelerator": "GPU"
  },
  "cells": [
    {
      "cell_type": "markdown",
      "metadata": {
        "id": "view-in-github",
        "colab_type": "text"
      },
      "source": [
        "<a href=\"https://colab.research.google.com/github/saurabh533/Lets_Grow_More/blob/main/Fashion_mnst_dataset.ipynb\" target=\"_parent\"><img src=\"https://colab.research.google.com/assets/colab-badge.svg\" alt=\"Open In Colab\"/></a>"
      ]
    },
    {
      "cell_type": "code",
      "execution_count": null,
      "metadata": {
        "id": "AFD9i24V_H_I"
      },
      "outputs": [],
      "source": [
        "import tensorflow as tf"
      ]
    },
    {
      "cell_type": "code",
      "source": [
        "import numpy as np"
      ],
      "metadata": {
        "id": "G6UcPPBm_kbY"
      },
      "execution_count": null,
      "outputs": []
    },
    {
      "cell_type": "code",
      "source": [
        "print(tf.__version__)"
      ],
      "metadata": {
        "colab": {
          "base_uri": "https://localhost:8080/"
        },
        "id": "4lfmT-dO_9FK",
        "outputId": "6efda1f7-2ad9-4acc-c2b7-5af620f40138"
      },
      "execution_count": null,
      "outputs": [
        {
          "output_type": "stream",
          "name": "stdout",
          "text": [
            "2.12.0\n"
          ]
        }
      ]
    },
    {
      "cell_type": "code",
      "source": [
        "import keras"
      ],
      "metadata": {
        "id": "b3e0Ra2r1KMk"
      },
      "execution_count": null,
      "outputs": []
    },
    {
      "cell_type": "code",
      "source": [
        "fashion_mnist=keras.datasets.fashion_mnist"
      ],
      "metadata": {
        "id": "HLPeqaiKFV2v"
      },
      "execution_count": null,
      "outputs": []
    },
    {
      "cell_type": "code",
      "source": [
        "(train_images,train_labels),(test_images,test_labels)=fashion_mnist.load_data()"
      ],
      "metadata": {
        "id": "c9v1pNp9Fj7F",
        "colab": {
          "base_uri": "https://localhost:8080/"
        },
        "outputId": "f8cec565-7031-49d8-890b-eb5b270c62aa"
      },
      "execution_count": null,
      "outputs": [
        {
          "output_type": "stream",
          "name": "stdout",
          "text": [
            "Downloading data from https://storage.googleapis.com/tensorflow/tf-keras-datasets/train-labels-idx1-ubyte.gz\n",
            "29515/29515 [==============================] - 0s 1us/step\n",
            "Downloading data from https://storage.googleapis.com/tensorflow/tf-keras-datasets/train-images-idx3-ubyte.gz\n",
            "26421880/26421880 [==============================] - 2s 0us/step\n",
            "Downloading data from https://storage.googleapis.com/tensorflow/tf-keras-datasets/t10k-labels-idx1-ubyte.gz\n",
            "5148/5148 [==============================] - 0s 0us/step\n",
            "Downloading data from https://storage.googleapis.com/tensorflow/tf-keras-datasets/t10k-images-idx3-ubyte.gz\n",
            "4422102/4422102 [==============================] - 1s 0us/step\n"
          ]
        }
      ]
    },
    {
      "cell_type": "code",
      "source": [
        "#SCALING OUR IMAGES\n",
        "train_images = train_images/255.0\n",
        "test_images = test_images/255.0"
      ],
      "metadata": {
        "id": "RFUPpr_uHSDj"
      },
      "execution_count": null,
      "outputs": []
    },
    {
      "cell_type": "code",
      "source": [
        "train_images=train_images.reshape(len(train_images),28,28,1)"
      ],
      "metadata": {
        "id": "moNVExOZH6xt"
      },
      "execution_count": null,
      "outputs": []
    },
    {
      "cell_type": "code",
      "source": [
        "test_images=test_images.reshape(len(test_images),28,28,1)"
      ],
      "metadata": {
        "id": "57JVSW7yILK9"
      },
      "execution_count": null,
      "outputs": []
    },
    {
      "cell_type": "code",
      "source": [
        "train_images.shape"
      ],
      "metadata": {
        "colab": {
          "base_uri": "https://localhost:8080/"
        },
        "id": "RutlE4ZUJKZh",
        "outputId": "1a6be632-75c0-4d08-b17d-d1ffc618b676"
      },
      "execution_count": null,
      "outputs": [
        {
          "output_type": "execute_result",
          "data": {
            "text/plain": [
              "(60000, 28, 28, 1)"
            ]
          },
          "metadata": {},
          "execution_count": 24
        }
      ]
    },
    {
      "cell_type": "code",
      "source": [
        "test_images.shape"
      ],
      "metadata": {
        "colab": {
          "base_uri": "https://localhost:8080/"
        },
        "id": "oNaS6vHRJOcn",
        "outputId": "d662035e-75f3-4b5e-8dc2-f85117a6bdc8"
      },
      "execution_count": null,
      "outputs": [
        {
          "output_type": "execute_result",
          "data": {
            "text/plain": [
              "(10000, 28, 28, 1)"
            ]
          },
          "metadata": {},
          "execution_count": 25
        }
      ]
    },
    {
      "cell_type": "code",
      "source": [
        "from tensorflow import keras\n",
        "from kerastuner.tuners import RandomSearch\n",
        "\n",
        "def build_model(hp):\n",
        "    model = keras.Sequential([\n",
        "        keras.layers.Conv2D(\n",
        "            filters=hp.Int('conv_1_filter', min_value=32, max_value=128, step=16),\n",
        "            kernel_size=hp.Choice('conv_1_kernel', values=[3, 5]),\n",
        "            activation='relu',\n",
        "            input_shape=(28, 28, 1)\n",
        "        ),\n",
        "        keras.layers.Conv2D(\n",
        "            filters=hp.Int('conv_2_filter', min_value=32, max_value=64, step=16),\n",
        "            kernel_size=hp.Choice('conv_2_kernel', values=[3, 5]),\n",
        "            activation='relu',\n",
        "        ),\n",
        "        keras.layers.Flatten(),\n",
        "        keras.layers.Dense(\n",
        "            units=hp.Int('dense_1_units', min_value=32, max_value=128, step=16),\n",
        "            activation='relu'\n",
        "        ),\n",
        "        keras.layers.Dense(10, activation='softmax')\n",
        "    ])\n",
        "\n",
        "    model.compile(\n",
        "        optimizer=keras.optimizers.Adam(hp.Choice('learning_rate', values=[1e-2, 1e-3])),\n",
        "        loss='sparse_categorical_crossentropy',\n",
        "        metrics=['accuracy']\n",
        "    )\n",
        "\n",
        "    return model\n",
        "\n",
        "tuner = RandomSearch(\n",
        "    build_model,\n",
        "    objective='val_accuracy',\n",
        "    max_trials=5,\n",
        "    directory='my_dir',\n",
        "    project_name='my_project'\n",
        ")\n"
      ],
      "metadata": {
        "id": "Ycvf1mF1JRYe",
        "colab": {
          "base_uri": "https://localhost:8080/"
        },
        "outputId": "32ae6568-0462-4bc1-ad83-fd8d4987f633"
      },
      "execution_count": null,
      "outputs": [
        {
          "output_type": "stream",
          "name": "stderr",
          "text": [
            "<ipython-input-28-d0d7f25ef293>:2: DeprecationWarning: `import kerastuner` is deprecated, please use `import keras_tuner`.\n",
            "  from kerastuner.tuners import RandomSearch\n"
          ]
        }
      ]
    },
    {
      "cell_type": "code",
      "source": [
        "tuner.search(train_images,train_labels, epochs=10, validation_split=0.1)\n"
      ],
      "metadata": {
        "colab": {
          "base_uri": "https://localhost:8080/"
        },
        "id": "Yv5o_L9jpRwI",
        "outputId": "4521823f-54bc-4f4a-b623-fb179824a581"
      },
      "execution_count": null,
      "outputs": [
        {
          "output_type": "stream",
          "name": "stdout",
          "text": [
            "Trial 5 Complete [00h 02m 23s]\n",
            "val_accuracy: 0.8774999976158142\n",
            "\n",
            "Best val_accuracy So Far: 0.887333333492279\n",
            "Total elapsed time: 00h 09m 24s\n"
          ]
        }
      ]
    },
    {
      "cell_type": "code",
      "source": [
        "tuner.results_summary()"
      ],
      "metadata": {
        "colab": {
          "base_uri": "https://localhost:8080/"
        },
        "id": "Oz2Fewfaw6rh",
        "outputId": "772a4714-9026-41dc-bc99-1711426b533a"
      },
      "execution_count": null,
      "outputs": [
        {
          "output_type": "stream",
          "name": "stdout",
          "text": [
            "Results summary\n",
            "Results in my_dir/my_project\n",
            "Showing 10 best trials\n",
            "Objective(name=\"val_accuracy\", direction=\"max\")\n",
            "\n",
            "Trial 0 summary\n",
            "Hyperparameters:\n",
            "conv_1_filter: 48\n",
            "conv_1_kernel: 3\n",
            "conv_2_filter: 64\n",
            "conv_2_kernel: 3\n",
            "dense_1_units: 112\n",
            "learning_rate: 0.01\n",
            "Score: 0.887333333492279\n",
            "\n",
            "Trial 3 summary\n",
            "Hyperparameters:\n",
            "conv_1_filter: 96\n",
            "conv_1_kernel: 3\n",
            "conv_2_filter: 64\n",
            "conv_2_kernel: 5\n",
            "dense_1_units: 48\n",
            "learning_rate: 0.01\n",
            "Score: 0.8809999823570251\n",
            "\n",
            "Trial 1 summary\n",
            "Hyperparameters:\n",
            "conv_1_filter: 128\n",
            "conv_1_kernel: 3\n",
            "conv_2_filter: 48\n",
            "conv_2_kernel: 3\n",
            "dense_1_units: 96\n",
            "learning_rate: 0.01\n",
            "Score: 0.8794999718666077\n",
            "\n",
            "Trial 4 summary\n",
            "Hyperparameters:\n",
            "conv_1_filter: 128\n",
            "conv_1_kernel: 3\n",
            "conv_2_filter: 48\n",
            "conv_2_kernel: 3\n",
            "dense_1_units: 64\n",
            "learning_rate: 0.01\n",
            "Score: 0.8774999976158142\n",
            "\n",
            "Trial 2 summary\n",
            "Hyperparameters:\n",
            "conv_1_filter: 64\n",
            "conv_1_kernel: 5\n",
            "conv_2_filter: 48\n",
            "conv_2_kernel: 3\n",
            "dense_1_units: 48\n",
            "learning_rate: 0.01\n",
            "Score: 0.1054999977350235\n"
          ]
        }
      ]
    },
    {
      "cell_type": "code",
      "source": [
        "models = tuner.get_best_models(num_models=2)\n",
        "best_model = models[0]\n",
        "best_model.build(input_shape=(None, 28, 28))\n",
        "best_model.summary()"
      ],
      "metadata": {
        "colab": {
          "base_uri": "https://localhost:8080/"
        },
        "id": "1pcHPByrygEA",
        "outputId": "c72b4bf3-e9ba-4341-ba49-0bfd572cf8b6"
      },
      "execution_count": null,
      "outputs": [
        {
          "output_type": "stream",
          "name": "stdout",
          "text": [
            "Model: \"sequential\"\n",
            "_________________________________________________________________\n",
            " Layer (type)                Output Shape              Param #   \n",
            "=================================================================\n",
            " conv2d (Conv2D)             (None, 26, 26, 48)        480       \n",
            "                                                                 \n",
            " conv2d_1 (Conv2D)           (None, 24, 24, 64)        27712     \n",
            "                                                                 \n",
            " flatten (Flatten)           (None, 36864)             0         \n",
            "                                                                 \n",
            " dense (Dense)               (None, 112)               4128880   \n",
            "                                                                 \n",
            " dense_1 (Dense)             (None, 10)                1130      \n",
            "                                                                 \n",
            "=================================================================\n",
            "Total params: 4,158,202\n",
            "Trainable params: 4,158,202\n",
            "Non-trainable params: 0\n",
            "_________________________________________________________________\n"
          ]
        }
      ]
    },
    {
      "cell_type": "code",
      "source": [
        "best_model.fit(train_images,train_labels,epochs=15,validation_split=0.1,initial_epoch=5)"
      ],
      "metadata": {
        "colab": {
          "base_uri": "https://localhost:8080/"
        },
        "id": "jDGhPpnDzaHr",
        "outputId": "75701d27-c558-4429-dad0-aa50c8f9dc90"
      },
      "execution_count": null,
      "outputs": [
        {
          "output_type": "stream",
          "name": "stdout",
          "text": [
            "Epoch 6/15\n",
            "1688/1688 [==============================] - 11s 5ms/step - loss: 0.1605 - accuracy: 0.9436 - val_loss: 0.5682 - val_accuracy: 0.8823\n",
            "Epoch 7/15\n",
            "1688/1688 [==============================] - 9s 5ms/step - loss: 0.1589 - accuracy: 0.9476 - val_loss: 0.6228 - val_accuracy: 0.8763\n",
            "Epoch 8/15\n",
            "1688/1688 [==============================] - 13s 8ms/step - loss: 0.1340 - accuracy: 0.9544 - val_loss: 0.6786 - val_accuracy: 0.8815\n",
            "Epoch 9/15\n",
            "1688/1688 [==============================] - 11s 6ms/step - loss: 0.1446 - accuracy: 0.9526 - val_loss: 0.7612 - val_accuracy: 0.8732\n",
            "Epoch 10/15\n",
            "1688/1688 [==============================] - 10s 6ms/step - loss: 0.1374 - accuracy: 0.9571 - val_loss: 0.8204 - val_accuracy: 0.8763\n",
            "Epoch 11/15\n",
            "1688/1688 [==============================] - 10s 6ms/step - loss: 0.1242 - accuracy: 0.9601 - val_loss: 0.8677 - val_accuracy: 0.8782\n",
            "Epoch 12/15\n",
            "1688/1688 [==============================] - 10s 6ms/step - loss: 0.1107 - accuracy: 0.9633 - val_loss: 0.9056 - val_accuracy: 0.8722\n",
            "Epoch 13/15\n",
            "1688/1688 [==============================] - 9s 5ms/step - loss: 0.1269 - accuracy: 0.9615 - val_loss: 0.8818 - val_accuracy: 0.8803\n",
            "Epoch 14/15\n",
            "1688/1688 [==============================] - 8s 5ms/step - loss: 0.1217 - accuracy: 0.9637 - val_loss: 1.0474 - val_accuracy: 0.8690\n",
            "Epoch 15/15\n",
            "1688/1688 [==============================] - 8s 5ms/step - loss: 0.1168 - accuracy: 0.9658 - val_loss: 1.2673 - val_accuracy: 0.8478\n"
          ]
        },
        {
          "output_type": "execute_result",
          "data": {
            "text/plain": [
              "<keras.callbacks.History at 0x7c96011c80d0>"
            ]
          },
          "metadata": {},
          "execution_count": 32
        }
      ]
    },
    {
      "cell_type": "code",
      "source": [
        "y_predict=best_model.predict(test_images)"
      ],
      "metadata": {
        "colab": {
          "base_uri": "https://localhost:8080/"
        },
        "id": "TugWWVeRAfJK",
        "outputId": "b9ab1599-2916-4ba0-db4e-306597a810e3"
      },
      "execution_count": null,
      "outputs": [
        {
          "output_type": "stream",
          "name": "stdout",
          "text": [
            "313/313 [==============================] - 1s 2ms/step\n"
          ]
        }
      ]
    },
    {
      "cell_type": "code",
      "source": [
        "y_predict=y_predict.astype(int)"
      ],
      "metadata": {
        "id": "xviX_lYkHIb5"
      },
      "execution_count": null,
      "outputs": []
    },
    {
      "cell_type": "code",
      "source": [
        "y_predict_to_array = []\n",
        "for i in range(len(y_predict)):\n",
        "    for j in range(10):\n",
        "        if y_predict[i][j]==max(y_predict[i]):\n",
        "            y_predict_to_array.append(j)"
      ],
      "metadata": {
        "id": "DF5BWA16CcSp"
      },
      "execution_count": null,
      "outputs": []
    },
    {
      "cell_type": "code",
      "source": [
        "y_predict_to_array = np.array(y_predict_to_array)"
      ],
      "metadata": {
        "id": "4lCMoFG9DRBV"
      },
      "execution_count": null,
      "outputs": []
    },
    {
      "cell_type": "code",
      "source": [
        "len(y_predict_to_array)"
      ],
      "metadata": {
        "colab": {
          "base_uri": "https://localhost:8080/"
        },
        "id": "ofbrnNnrDmn5",
        "outputId": "fcb6f1ac-1f8a-4718-eab7-f931259e561e"
      },
      "execution_count": null,
      "outputs": [
        {
          "output_type": "execute_result",
          "data": {
            "text/plain": [
              "10000"
            ]
          },
          "metadata": {},
          "execution_count": 104
        }
      ]
    },
    {
      "cell_type": "code",
      "source": [
        "from sklearn.metrics import accuracy_score"
      ],
      "metadata": {
        "id": "2pzKn-UFD3Yb"
      },
      "execution_count": null,
      "outputs": []
    },
    {
      "cell_type": "code",
      "source": [
        "accuracy = accuracy_score(test_labels, y_predict_to_array)\n"
      ],
      "metadata": {
        "id": "w8A0NWI1EBb8"
      },
      "execution_count": null,
      "outputs": []
    },
    {
      "cell_type": "code",
      "source": [
        "print(accuracy,'accuracy_on_test')"
      ],
      "metadata": {
        "colab": {
          "base_uri": "https://localhost:8080/"
        },
        "id": "r89sAN3GNgbF",
        "outputId": "e01350a6-1146-4673-d097-962b6a2544b8"
      },
      "execution_count": null,
      "outputs": [
        {
          "output_type": "stream",
          "name": "stdout",
          "text": [
            "0.8356 accuracy_on_test\n"
          ]
        }
      ]
    }
  ]
}